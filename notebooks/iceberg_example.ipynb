{
 "cells": [
  {
   "cell_type": "markdown",
   "id": "1",
   "metadata": {},
   "source": [
    "# Apache Iceberg Example\n",
    "This notebook demonstrates how to work with Apache Iceberg tables in the Modern Data Hub."
   ]
  },
  {
   "cell_type": "code",
   "execution_count": null,
   "id": "2",
   "metadata": {},
   "outputs": [],
   "source": [
    "from pyspark.sql import SparkSession\n",
    "\n",
    "spark = SparkSession.builder \\\n",
    "    .appName(\"IcebergExample\") \\\n",
    "    .config(\"spark.sql.catalog.iceberg\", \"org.apache.iceberg.spark.SparkCatalog\") \\\n",
    "    .config(\"spark.sql.catalog.iceberg.type\", \"hive\") \\\n",
    "    .config(\"spark.sql.catalog.iceberg.uri\", \"thrift://hive-metastore:9083\") \\\n",
    "    .getOrCreate()"
   ]
  },
  {
   "cell_type": "code",
   "execution_count": null,
   "id": "3",
   "metadata": {},
   "outputs": [],
   "source": [
    "# Create an Iceberg table\n",
    "spark.sql(\"\"\"\n",
    "    CREATE TABLE IF NOT EXISTS iceberg.default.users (\n",
    "        id BIGINT,\n",
    "        name STRING,\n",
    "        email STRING,\n",
    "        created_at TIMESTAMP\n",
    "    ) USING iceberg\n",
    "    LOCATION 's3a://warehouse/users'\n",
    "\"\"\")"
   ]
  },
  {
   "cell_type": "code",
   "execution_count": null,
   "id": "4",
   "metadata": {},
   "outputs": [],
   "source": [
    "# Insert sample data\n",
    "spark.sql(\"\"\"\n",
    "    INSERT INTO iceberg.default.users VALUES\n",
    "    (1, 'Alice', 'alice@example.com', current_timestamp()),\n",
    "    (2, 'Bob', 'bob@example.com', current_timestamp())\n",
    "\"\"\")"
   ]
  },
  {
   "cell_type": "code",
   "execution_count": null,
   "id": "5",
   "metadata": {},
   "outputs": [],
   "source": [
    "# Query the table\n",
    "spark.sql(\"SELECT * FROM iceberg.default.users\").show()"
   ]
  }
 ],
 "metadata": {
  "kernelspec": {
   "display_name": "Python 3",
   "language": "python",
   "name": "python3"
  },
  "language_info": {
   "codemirror_mode": {
    "name": "ipython",
    "version": 3
   },
   "file_extension": ".py",
   "mimetype": "text/x-python",
   "name": "python",
   "nbconvert_exporter": "python",
   "pygments_lexer": "ipython3",
   "version": "3.9.7"
  }
 },
 "nbformat": 4,
 "nbformat_minor": 5
}